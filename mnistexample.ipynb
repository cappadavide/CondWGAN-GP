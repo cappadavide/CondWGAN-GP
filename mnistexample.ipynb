{
 "cells": [
  {
   "cell_type": "code",
   "execution_count": 1,
   "metadata": {},
   "outputs": [
    {
     "name": "stdout",
     "output_type": "stream",
     "text": [
      "Epoch 1/20\n",
      "2188/2188 [==============================] - 77s 31ms/step - d_loss: -1.6102 - g_loss: -2.5012\n",
      "Epoch 2/20\n",
      "2188/2188 [==============================] - 68s 31ms/step - d_loss: -0.7821 - g_loss: -2.2454\n",
      "Epoch 3/20\n",
      "2188/2188 [==============================] - 69s 32ms/step - d_loss: -0.6298 - g_loss: -5.3353\n",
      "Epoch 4/20\n",
      "2188/2188 [==============================] - 69s 31ms/step - d_loss: -0.4570 - g_loss: -6.7326\n",
      "Epoch 5/20\n",
      "2188/2188 [==============================] - 69s 31ms/step - d_loss: -0.4095 - g_loss: -7.7729\n",
      "Epoch 6/20\n",
      "2188/2188 [==============================] - 68s 31ms/step - d_loss: -0.3937 - g_loss: -8.2930\n",
      "Epoch 7/20\n",
      "2188/2188 [==============================] - 69s 32ms/step - d_loss: -0.3581 - g_loss: -10.6233\n",
      "Epoch 8/20\n",
      "2188/2188 [==============================] - 69s 31ms/step - d_loss: -0.3391 - g_loss: -4.5325\n",
      "Epoch 9/20\n",
      "2188/2188 [==============================] - 68s 31ms/step - d_loss: -0.2884 - g_loss: -0.2245\n",
      "Epoch 10/20\n",
      "2188/2188 [==============================] - 68s 31ms/step - d_loss: -0.2650 - g_loss: -2.7773\n",
      "Epoch 11/20\n",
      "2188/2188 [==============================] - 69s 31ms/step - d_loss: -0.2165 - g_loss: -2.1104\n",
      "Epoch 12/20\n",
      "2188/2188 [==============================] - 69s 31ms/step - d_loss: -0.2121 - g_loss: -2.1920\n",
      "Epoch 13/20\n",
      "2188/2188 [==============================] - 68s 31ms/step - d_loss: -0.2993 - g_loss: -1.3362\n",
      "Epoch 14/20\n",
      "2188/2188 [==============================] - 68s 31ms/step - d_loss: -0.3405 - g_loss: -3.5191\n",
      "Epoch 15/20\n",
      "2188/2188 [==============================] - 69s 31ms/step - d_loss: -0.1406 - g_loss: -0.6406\n",
      "Epoch 16/20\n",
      "2188/2188 [==============================] - 69s 31ms/step - d_loss: -0.2050 - g_loss: 3.2141\n",
      "Epoch 17/20\n",
      "2188/2188 [==============================] - 69s 31ms/step - d_loss: -0.1630 - g_loss: 0.6847\n",
      "Epoch 18/20\n",
      "2188/2188 [==============================] - 69s 31ms/step - d_loss: -0.2673 - g_loss: 1.4281\n",
      "Epoch 19/20\n",
      "2188/2188 [==============================] - 69s 31ms/step - d_loss: -0.0743 - g_loss: 3.6299\n",
      "Epoch 20/20\n",
      "2188/2188 [==============================] - 68s 31ms/step - d_loss: -0.1220 - g_loss: 6.0585\n"
     ]
    },
    {
     "data": {
      "text/plain": [
       "<keras.callbacks.History at 0x27f1a45e0e0>"
      ]
     },
     "execution_count": 1,
     "metadata": {},
     "output_type": "execute_result"
    }
   ],
   "source": [
    "from tensorflow import keras\n",
    "from keras import layers\n",
    "import tensorflow as tf\n",
    "import numpy as np\n",
    "from cwgangp import ConditionalWGAN_GP\n",
    "\n",
    "(x_train, y_train), (x_test, y_test) = keras.datasets.mnist.load_data()\n",
    "all_digits = np.concatenate([x_train, x_test])\n",
    "all_labels = np.concatenate([y_train, y_test])\n",
    "all_labels = keras.utils.to_categorical(all_labels, 10)\n",
    "all_digits = (all_digits.astype(\"float32\") - 127.5) / 127.5\n",
    "all_digits = np.reshape(all_digits, (-1, 28, 28, 1))\n",
    "\n",
    "generator_optimizer = keras.optimizers.Adam(\n",
    "    learning_rate=0.0002, beta_1=0.5, beta_2=0.9\n",
    ")\n",
    "discriminator_optimizer = keras.optimizers.Adam(\n",
    "    learning_rate=0.0002, beta_1=0.5, beta_2=0.9\n",
    ")\n",
    "\n",
    "# Define the loss functions for the discriminator,\n",
    "# which should be (fake_loss - real_loss).\n",
    "# We will add the gradient penalty later to this loss function.\n",
    "def critic_loss(real_img, fake_img):\n",
    "    real_loss = tf.reduce_mean(real_img)\n",
    "    fake_loss = tf.reduce_mean(fake_img)\n",
    "    return fake_loss - real_loss\n",
    "\n",
    "\n",
    "# Define the loss functions for the generator.\n",
    "def generator_loss(fake_img):\n",
    "    return -tf.reduce_mean(fake_img)\n",
    "\n",
    "# Set the number of epochs for training.\n",
    "epochs = 20\n",
    "\n",
    "# Get the wgan model\n",
    "wgan = ConditionalWGAN_GP(128,10,28)\n",
    "\n",
    "# Compile the wgan model\n",
    "wgan.compile(\n",
    "    d_optimizer=discriminator_optimizer,\n",
    "    g_optimizer=generator_optimizer,\n",
    "    g_loss_fn=generator_loss,\n",
    "    d_loss_fn=critic_loss,\n",
    ")\n",
    "\n",
    "# Start training\n",
    "wgan.fit(all_digits, all_labels, batch_size=32, epochs=epochs)\n"
   ]
  },
  {
   "cell_type": "code",
   "execution_count": 3,
   "metadata": {},
   "outputs": [
    {
     "data": {
      "text/plain": [
       "<matplotlib.image.AxesImage at 0x280f099e860>"
      ]
     },
     "execution_count": 3,
     "metadata": {},
     "output_type": "execute_result"
    },
    {
     "data": {
      "image/png": "[encoded data removed]",
      "text/plain": [
       "<Figure size 640x480 with 1 Axes>"
      ]
     },
     "metadata": {},
     "output_type": "display_data"
    }
   ],
   "source": [
    "from matplotlib import pyplot as plt\n",
    "from PIL import Image\n",
    "\n",
    "random_latent_vectors = tf.random.normal(shape=(1, 128))\n",
    "label = [[0,1,0,0,0,0,0,0,0,0]]\n",
    "\n",
    "gen = wgan.generator(tf.concat([random_latent_vectors,label],axis=1))\n",
    "img = np.squeeze(gen[0])*127.5+127.5\n",
    "plt.imshow(img,cmap='gray')"
   ]
  }
 ],
 "metadata": {
  "kernelspec": {
   "display_name": "Python 3",
   "language": "python",
   "name": "python3"
  },
  "language_info": {
   "codemirror_mode": {
    "name": "ipython",
    "version": 3
   },
   "file_extension": ".py",
   "mimetype": "text/x-python",
   "name": "python",
   "nbconvert_exporter": "python",
   "pygments_lexer": "ipython3",
   "version": "3.10.7"
  },
  "orig_nbformat": 4
 },
 "nbformat": 4,
 "nbformat_minor": 2
}
